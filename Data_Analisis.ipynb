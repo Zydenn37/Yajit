{
  "nbformat": 4,
  "nbformat_minor": 0,
  "metadata": {
    "colab": {
      "provenance": [],
      "authorship_tag": "ABX9TyNIVhhP6xjhAw4YflSiwamh",
      "include_colab_link": true
    },
    "kernelspec": {
      "name": "python3",
      "display_name": "Python 3"
    },
    "language_info": {
      "name": "python"
    }
  },
  "cells": [
    {
      "cell_type": "markdown",
      "metadata": {
        "id": "view-in-github",
        "colab_type": "text"
      },
      "source": [
        "<a href=\"https://colab.research.google.com/github/Zydenn37/Yajit/blob/main/Data_Analisis.ipynb\" target=\"_parent\"><img src=\"https://colab.research.google.com/assets/colab-badge.svg\" alt=\"Open In Colab\"/></a>"
      ]
    },
    {
      "cell_type": "code",
      "execution_count": 6,
      "metadata": {
        "colab": {
          "base_uri": "https://localhost:8080/",
          "height": 641
        },
        "id": "B2GJSwyS9KWB",
        "outputId": "7bdc01ed-1c61-41fa-8fdf-f2b70c4d9686"
      },
      "outputs": [
        {
          "output_type": "display_data",
          "data": {
            "text/plain": [
              "<IPython.core.display.HTML object>"
            ],
            "text/html": [
              "\n",
              "     <input type=\"file\" id=\"files-f045cb5c-a394-4468-9378-68cbf540e18a\" name=\"files[]\" multiple disabled\n",
              "        style=\"border:none\" />\n",
              "     <output id=\"result-f045cb5c-a394-4468-9378-68cbf540e18a\">\n",
              "      Upload widget is only available when the cell has been executed in the\n",
              "      current browser session. Please rerun this cell to enable.\n",
              "      </output>\n",
              "      <script>// Copyright 2017 Google LLC\n",
              "//\n",
              "// Licensed under the Apache License, Version 2.0 (the \"License\");\n",
              "// you may not use this file except in compliance with the License.\n",
              "// You may obtain a copy of the License at\n",
              "//\n",
              "//      http://www.apache.org/licenses/LICENSE-2.0\n",
              "//\n",
              "// Unless required by applicable law or agreed to in writing, software\n",
              "// distributed under the License is distributed on an \"AS IS\" BASIS,\n",
              "// WITHOUT WARRANTIES OR CONDITIONS OF ANY KIND, either express or implied.\n",
              "// See the License for the specific language governing permissions and\n",
              "// limitations under the License.\n",
              "\n",
              "/**\n",
              " * @fileoverview Helpers for google.colab Python module.\n",
              " */\n",
              "(function(scope) {\n",
              "function span(text, styleAttributes = {}) {\n",
              "  const element = document.createElement('span');\n",
              "  element.textContent = text;\n",
              "  for (const key of Object.keys(styleAttributes)) {\n",
              "    element.style[key] = styleAttributes[key];\n",
              "  }\n",
              "  return element;\n",
              "}\n",
              "\n",
              "// Max number of bytes which will be uploaded at a time.\n",
              "const MAX_PAYLOAD_SIZE = 100 * 1024;\n",
              "\n",
              "function _uploadFiles(inputId, outputId) {\n",
              "  const steps = uploadFilesStep(inputId, outputId);\n",
              "  const outputElement = document.getElementById(outputId);\n",
              "  // Cache steps on the outputElement to make it available for the next call\n",
              "  // to uploadFilesContinue from Python.\n",
              "  outputElement.steps = steps;\n",
              "\n",
              "  return _uploadFilesContinue(outputId);\n",
              "}\n",
              "\n",
              "// This is roughly an async generator (not supported in the browser yet),\n",
              "// where there are multiple asynchronous steps and the Python side is going\n",
              "// to poll for completion of each step.\n",
              "// This uses a Promise to block the python side on completion of each step,\n",
              "// then passes the result of the previous step as the input to the next step.\n",
              "function _uploadFilesContinue(outputId) {\n",
              "  const outputElement = document.getElementById(outputId);\n",
              "  const steps = outputElement.steps;\n",
              "\n",
              "  const next = steps.next(outputElement.lastPromiseValue);\n",
              "  return Promise.resolve(next.value.promise).then((value) => {\n",
              "    // Cache the last promise value to make it available to the next\n",
              "    // step of the generator.\n",
              "    outputElement.lastPromiseValue = value;\n",
              "    return next.value.response;\n",
              "  });\n",
              "}\n",
              "\n",
              "/**\n",
              " * Generator function which is called between each async step of the upload\n",
              " * process.\n",
              " * @param {string} inputId Element ID of the input file picker element.\n",
              " * @param {string} outputId Element ID of the output display.\n",
              " * @return {!Iterable<!Object>} Iterable of next steps.\n",
              " */\n",
              "function* uploadFilesStep(inputId, outputId) {\n",
              "  const inputElement = document.getElementById(inputId);\n",
              "  inputElement.disabled = false;\n",
              "\n",
              "  const outputElement = document.getElementById(outputId);\n",
              "  outputElement.innerHTML = '';\n",
              "\n",
              "  const pickedPromise = new Promise((resolve) => {\n",
              "    inputElement.addEventListener('change', (e) => {\n",
              "      resolve(e.target.files);\n",
              "    });\n",
              "  });\n",
              "\n",
              "  const cancel = document.createElement('button');\n",
              "  inputElement.parentElement.appendChild(cancel);\n",
              "  cancel.textContent = 'Cancel upload';\n",
              "  const cancelPromise = new Promise((resolve) => {\n",
              "    cancel.onclick = () => {\n",
              "      resolve(null);\n",
              "    };\n",
              "  });\n",
              "\n",
              "  // Wait for the user to pick the files.\n",
              "  const files = yield {\n",
              "    promise: Promise.race([pickedPromise, cancelPromise]),\n",
              "    response: {\n",
              "      action: 'starting',\n",
              "    }\n",
              "  };\n",
              "\n",
              "  cancel.remove();\n",
              "\n",
              "  // Disable the input element since further picks are not allowed.\n",
              "  inputElement.disabled = true;\n",
              "\n",
              "  if (!files) {\n",
              "    return {\n",
              "      response: {\n",
              "        action: 'complete',\n",
              "      }\n",
              "    };\n",
              "  }\n",
              "\n",
              "  for (const file of files) {\n",
              "    const li = document.createElement('li');\n",
              "    li.append(span(file.name, {fontWeight: 'bold'}));\n",
              "    li.append(span(\n",
              "        `(${file.type || 'n/a'}) - ${file.size} bytes, ` +\n",
              "        `last modified: ${\n",
              "            file.lastModifiedDate ? file.lastModifiedDate.toLocaleDateString() :\n",
              "                                    'n/a'} - `));\n",
              "    const percent = span('0% done');\n",
              "    li.appendChild(percent);\n",
              "\n",
              "    outputElement.appendChild(li);\n",
              "\n",
              "    const fileDataPromise = new Promise((resolve) => {\n",
              "      const reader = new FileReader();\n",
              "      reader.onload = (e) => {\n",
              "        resolve(e.target.result);\n",
              "      };\n",
              "      reader.readAsArrayBuffer(file);\n",
              "    });\n",
              "    // Wait for the data to be ready.\n",
              "    let fileData = yield {\n",
              "      promise: fileDataPromise,\n",
              "      response: {\n",
              "        action: 'continue',\n",
              "      }\n",
              "    };\n",
              "\n",
              "    // Use a chunked sending to avoid message size limits. See b/62115660.\n",
              "    let position = 0;\n",
              "    do {\n",
              "      const length = Math.min(fileData.byteLength - position, MAX_PAYLOAD_SIZE);\n",
              "      const chunk = new Uint8Array(fileData, position, length);\n",
              "      position += length;\n",
              "\n",
              "      const base64 = btoa(String.fromCharCode.apply(null, chunk));\n",
              "      yield {\n",
              "        response: {\n",
              "          action: 'append',\n",
              "          file: file.name,\n",
              "          data: base64,\n",
              "        },\n",
              "      };\n",
              "\n",
              "      let percentDone = fileData.byteLength === 0 ?\n",
              "          100 :\n",
              "          Math.round((position / fileData.byteLength) * 100);\n",
              "      percent.textContent = `${percentDone}% done`;\n",
              "\n",
              "    } while (position < fileData.byteLength);\n",
              "  }\n",
              "\n",
              "  // All done.\n",
              "  yield {\n",
              "    response: {\n",
              "      action: 'complete',\n",
              "    }\n",
              "  };\n",
              "}\n",
              "\n",
              "scope.google = scope.google || {};\n",
              "scope.google.colab = scope.google.colab || {};\n",
              "scope.google.colab._files = {\n",
              "  _uploadFiles,\n",
              "  _uploadFilesContinue,\n",
              "};\n",
              "})(self);\n",
              "</script> "
            ]
          },
          "metadata": {}
        },
        {
          "output_type": "stream",
          "name": "stdout",
          "text": [
            "Saving Datasets Superstore.xlsx to Datasets Superstore.xlsx\n"
          ]
        },
        {
          "output_type": "execute_result",
          "data": {
            "text/plain": [
              "   Row ID        Order ID Order Date  Year     Month  Day       Ship Mode  \\\n",
              "0       1  CA-2016-152156 2016-11-08  2016  November    8    Second Class   \n",
              "1       2  CA-2016-152156 2016-11-08  2016  November    8    Second Class   \n",
              "2       3  CA-2016-138688 2016-06-12  2016      Juni   12    Second Class   \n",
              "3       4  US-2015-108966 2015-10-11  2015   Oktober   11  Standard Class   \n",
              "4       5  US-2015-108966 2015-10-11  2015   Oktober   11  Standard Class   \n",
              "\n",
              "  Customer ID    Customer Name    Segment  ... Postal Code Region  \\\n",
              "0    CG-12520      Claire Gute   Consumer  ...       42420  South   \n",
              "1    CG-12520      Claire Gute   Consumer  ...       42420  South   \n",
              "2    DV-13045  Darrin Van Huff  Corporate  ...       90036   West   \n",
              "3    SO-20335   Sean O'Donnell   Consumer  ...       33311  South   \n",
              "4    SO-20335   Sean O'Donnell   Consumer  ...       33311  South   \n",
              "\n",
              "        Product ID         Category Sub-Category  \\\n",
              "0  FUR-BO-10001798        Furniture    Bookcases   \n",
              "1  FUR-CH-10000454        Furniture       Chairs   \n",
              "2  OFF-LA-10000240  Office Supplies       Labels   \n",
              "3  FUR-TA-10000577        Furniture       Tables   \n",
              "4  OFF-ST-10000760  Office Supplies      Storage   \n",
              "\n",
              "                                        Product Name     Sales Quantity  \\\n",
              "0                  Bush Somerset Collection Bookcase  261.9600        2   \n",
              "1  Hon Deluxe Fabric Upholstered Stacking Chairs,...  731.9400        3   \n",
              "2  Self-Adhesive Address Labels for Typewriters b...   14.6200        2   \n",
              "3      Bretford CR4500 Series Slim Rectangular Table  957.5775        5   \n",
              "4                     Eldon Fold 'N Roll Cart System   22.3680        2   \n",
              "\n",
              "  Discount    Profit  \n",
              "0     0.00   41.9136  \n",
              "1     0.00  219.5820  \n",
              "2     0.00    6.8714  \n",
              "3     0.45 -383.0310  \n",
              "4     0.20    2.5164  \n",
              "\n",
              "[5 rows x 23 columns]"
            ],
            "text/html": [
              "\n",
              "  <div id=\"df-f23e0a42-51ad-4d60-bd12-a33d72d6fc3f\" class=\"colab-df-container\">\n",
              "    <div>\n",
              "<style scoped>\n",
              "    .dataframe tbody tr th:only-of-type {\n",
              "        vertical-align: middle;\n",
              "    }\n",
              "\n",
              "    .dataframe tbody tr th {\n",
              "        vertical-align: top;\n",
              "    }\n",
              "\n",
              "    .dataframe thead th {\n",
              "        text-align: right;\n",
              "    }\n",
              "</style>\n",
              "<table border=\"1\" class=\"dataframe\">\n",
              "  <thead>\n",
              "    <tr style=\"text-align: right;\">\n",
              "      <th></th>\n",
              "      <th>Row ID</th>\n",
              "      <th>Order ID</th>\n",
              "      <th>Order Date</th>\n",
              "      <th>Year</th>\n",
              "      <th>Month</th>\n",
              "      <th>Day</th>\n",
              "      <th>Ship Mode</th>\n",
              "      <th>Customer ID</th>\n",
              "      <th>Customer Name</th>\n",
              "      <th>Segment</th>\n",
              "      <th>...</th>\n",
              "      <th>Postal Code</th>\n",
              "      <th>Region</th>\n",
              "      <th>Product ID</th>\n",
              "      <th>Category</th>\n",
              "      <th>Sub-Category</th>\n",
              "      <th>Product Name</th>\n",
              "      <th>Sales</th>\n",
              "      <th>Quantity</th>\n",
              "      <th>Discount</th>\n",
              "      <th>Profit</th>\n",
              "    </tr>\n",
              "  </thead>\n",
              "  <tbody>\n",
              "    <tr>\n",
              "      <th>0</th>\n",
              "      <td>1</td>\n",
              "      <td>CA-2016-152156</td>\n",
              "      <td>2016-11-08</td>\n",
              "      <td>2016</td>\n",
              "      <td>November</td>\n",
              "      <td>8</td>\n",
              "      <td>Second Class</td>\n",
              "      <td>CG-12520</td>\n",
              "      <td>Claire Gute</td>\n",
              "      <td>Consumer</td>\n",
              "      <td>...</td>\n",
              "      <td>42420</td>\n",
              "      <td>South</td>\n",
              "      <td>FUR-BO-10001798</td>\n",
              "      <td>Furniture</td>\n",
              "      <td>Bookcases</td>\n",
              "      <td>Bush Somerset Collection Bookcase</td>\n",
              "      <td>261.9600</td>\n",
              "      <td>2</td>\n",
              "      <td>0.00</td>\n",
              "      <td>41.9136</td>\n",
              "    </tr>\n",
              "    <tr>\n",
              "      <th>1</th>\n",
              "      <td>2</td>\n",
              "      <td>CA-2016-152156</td>\n",
              "      <td>2016-11-08</td>\n",
              "      <td>2016</td>\n",
              "      <td>November</td>\n",
              "      <td>8</td>\n",
              "      <td>Second Class</td>\n",
              "      <td>CG-12520</td>\n",
              "      <td>Claire Gute</td>\n",
              "      <td>Consumer</td>\n",
              "      <td>...</td>\n",
              "      <td>42420</td>\n",
              "      <td>South</td>\n",
              "      <td>FUR-CH-10000454</td>\n",
              "      <td>Furniture</td>\n",
              "      <td>Chairs</td>\n",
              "      <td>Hon Deluxe Fabric Upholstered Stacking Chairs,...</td>\n",
              "      <td>731.9400</td>\n",
              "      <td>3</td>\n",
              "      <td>0.00</td>\n",
              "      <td>219.5820</td>\n",
              "    </tr>\n",
              "    <tr>\n",
              "      <th>2</th>\n",
              "      <td>3</td>\n",
              "      <td>CA-2016-138688</td>\n",
              "      <td>2016-06-12</td>\n",
              "      <td>2016</td>\n",
              "      <td>Juni</td>\n",
              "      <td>12</td>\n",
              "      <td>Second Class</td>\n",
              "      <td>DV-13045</td>\n",
              "      <td>Darrin Van Huff</td>\n",
              "      <td>Corporate</td>\n",
              "      <td>...</td>\n",
              "      <td>90036</td>\n",
              "      <td>West</td>\n",
              "      <td>OFF-LA-10000240</td>\n",
              "      <td>Office Supplies</td>\n",
              "      <td>Labels</td>\n",
              "      <td>Self-Adhesive Address Labels for Typewriters b...</td>\n",
              "      <td>14.6200</td>\n",
              "      <td>2</td>\n",
              "      <td>0.00</td>\n",
              "      <td>6.8714</td>\n",
              "    </tr>\n",
              "    <tr>\n",
              "      <th>3</th>\n",
              "      <td>4</td>\n",
              "      <td>US-2015-108966</td>\n",
              "      <td>2015-10-11</td>\n",
              "      <td>2015</td>\n",
              "      <td>Oktober</td>\n",
              "      <td>11</td>\n",
              "      <td>Standard Class</td>\n",
              "      <td>SO-20335</td>\n",
              "      <td>Sean O'Donnell</td>\n",
              "      <td>Consumer</td>\n",
              "      <td>...</td>\n",
              "      <td>33311</td>\n",
              "      <td>South</td>\n",
              "      <td>FUR-TA-10000577</td>\n",
              "      <td>Furniture</td>\n",
              "      <td>Tables</td>\n",
              "      <td>Bretford CR4500 Series Slim Rectangular Table</td>\n",
              "      <td>957.5775</td>\n",
              "      <td>5</td>\n",
              "      <td>0.45</td>\n",
              "      <td>-383.0310</td>\n",
              "    </tr>\n",
              "    <tr>\n",
              "      <th>4</th>\n",
              "      <td>5</td>\n",
              "      <td>US-2015-108966</td>\n",
              "      <td>2015-10-11</td>\n",
              "      <td>2015</td>\n",
              "      <td>Oktober</td>\n",
              "      <td>11</td>\n",
              "      <td>Standard Class</td>\n",
              "      <td>SO-20335</td>\n",
              "      <td>Sean O'Donnell</td>\n",
              "      <td>Consumer</td>\n",
              "      <td>...</td>\n",
              "      <td>33311</td>\n",
              "      <td>South</td>\n",
              "      <td>OFF-ST-10000760</td>\n",
              "      <td>Office Supplies</td>\n",
              "      <td>Storage</td>\n",
              "      <td>Eldon Fold 'N Roll Cart System</td>\n",
              "      <td>22.3680</td>\n",
              "      <td>2</td>\n",
              "      <td>0.20</td>\n",
              "      <td>2.5164</td>\n",
              "    </tr>\n",
              "  </tbody>\n",
              "</table>\n",
              "<p>5 rows × 23 columns</p>\n",
              "</div>\n",
              "    <div class=\"colab-df-buttons\">\n",
              "\n",
              "  <div class=\"colab-df-container\">\n",
              "    <button class=\"colab-df-convert\" onclick=\"convertToInteractive('df-f23e0a42-51ad-4d60-bd12-a33d72d6fc3f')\"\n",
              "            title=\"Convert this dataframe to an interactive table.\"\n",
              "            style=\"display:none;\">\n",
              "\n",
              "  <svg xmlns=\"http://www.w3.org/2000/svg\" height=\"24px\" viewBox=\"0 -960 960 960\">\n",
              "    <path d=\"M120-120v-720h720v720H120Zm60-500h600v-160H180v160Zm220 220h160v-160H400v160Zm0 220h160v-160H400v160ZM180-400h160v-160H180v160Zm440 0h160v-160H620v160ZM180-180h160v-160H180v160Zm440 0h160v-160H620v160Z\"/>\n",
              "  </svg>\n",
              "    </button>\n",
              "\n",
              "  <style>\n",
              "    .colab-df-container {\n",
              "      display:flex;\n",
              "      gap: 12px;\n",
              "    }\n",
              "\n",
              "    .colab-df-convert {\n",
              "      background-color: #E8F0FE;\n",
              "      border: none;\n",
              "      border-radius: 50%;\n",
              "      cursor: pointer;\n",
              "      display: none;\n",
              "      fill: #1967D2;\n",
              "      height: 32px;\n",
              "      padding: 0 0 0 0;\n",
              "      width: 32px;\n",
              "    }\n",
              "\n",
              "    .colab-df-convert:hover {\n",
              "      background-color: #E2EBFA;\n",
              "      box-shadow: 0px 1px 2px rgba(60, 64, 67, 0.3), 0px 1px 3px 1px rgba(60, 64, 67, 0.15);\n",
              "      fill: #174EA6;\n",
              "    }\n",
              "\n",
              "    .colab-df-buttons div {\n",
              "      margin-bottom: 4px;\n",
              "    }\n",
              "\n",
              "    [theme=dark] .colab-df-convert {\n",
              "      background-color: #3B4455;\n",
              "      fill: #D2E3FC;\n",
              "    }\n",
              "\n",
              "    [theme=dark] .colab-df-convert:hover {\n",
              "      background-color: #434B5C;\n",
              "      box-shadow: 0px 1px 3px 1px rgba(0, 0, 0, 0.15);\n",
              "      filter: drop-shadow(0px 1px 2px rgba(0, 0, 0, 0.3));\n",
              "      fill: #FFFFFF;\n",
              "    }\n",
              "  </style>\n",
              "\n",
              "    <script>\n",
              "      const buttonEl =\n",
              "        document.querySelector('#df-f23e0a42-51ad-4d60-bd12-a33d72d6fc3f button.colab-df-convert');\n",
              "      buttonEl.style.display =\n",
              "        google.colab.kernel.accessAllowed ? 'block' : 'none';\n",
              "\n",
              "      async function convertToInteractive(key) {\n",
              "        const element = document.querySelector('#df-f23e0a42-51ad-4d60-bd12-a33d72d6fc3f');\n",
              "        const dataTable =\n",
              "          await google.colab.kernel.invokeFunction('convertToInteractive',\n",
              "                                                    [key], {});\n",
              "        if (!dataTable) return;\n",
              "\n",
              "        const docLinkHtml = 'Like what you see? Visit the ' +\n",
              "          '<a target=\"_blank\" href=https://colab.research.google.com/notebooks/data_table.ipynb>data table notebook</a>'\n",
              "          + ' to learn more about interactive tables.';\n",
              "        element.innerHTML = '';\n",
              "        dataTable['output_type'] = 'display_data';\n",
              "        await google.colab.output.renderOutput(dataTable, element);\n",
              "        const docLink = document.createElement('div');\n",
              "        docLink.innerHTML = docLinkHtml;\n",
              "        element.appendChild(docLink);\n",
              "      }\n",
              "    </script>\n",
              "  </div>\n",
              "\n",
              "\n",
              "    <div id=\"df-cb04e5a0-9ed4-49f5-beee-23026f8af12b\">\n",
              "      <button class=\"colab-df-quickchart\" onclick=\"quickchart('df-cb04e5a0-9ed4-49f5-beee-23026f8af12b')\"\n",
              "                title=\"Suggest charts\"\n",
              "                style=\"display:none;\">\n",
              "\n",
              "<svg xmlns=\"http://www.w3.org/2000/svg\" height=\"24px\"viewBox=\"0 0 24 24\"\n",
              "     width=\"24px\">\n",
              "    <g>\n",
              "        <path d=\"M19 3H5c-1.1 0-2 .9-2 2v14c0 1.1.9 2 2 2h14c1.1 0 2-.9 2-2V5c0-1.1-.9-2-2-2zM9 17H7v-7h2v7zm4 0h-2V7h2v10zm4 0h-2v-4h2v4z\"/>\n",
              "    </g>\n",
              "</svg>\n",
              "      </button>\n",
              "\n",
              "<style>\n",
              "  .colab-df-quickchart {\n",
              "      --bg-color: #E8F0FE;\n",
              "      --fill-color: #1967D2;\n",
              "      --hover-bg-color: #E2EBFA;\n",
              "      --hover-fill-color: #174EA6;\n",
              "      --disabled-fill-color: #AAA;\n",
              "      --disabled-bg-color: #DDD;\n",
              "  }\n",
              "\n",
              "  [theme=dark] .colab-df-quickchart {\n",
              "      --bg-color: #3B4455;\n",
              "      --fill-color: #D2E3FC;\n",
              "      --hover-bg-color: #434B5C;\n",
              "      --hover-fill-color: #FFFFFF;\n",
              "      --disabled-bg-color: #3B4455;\n",
              "      --disabled-fill-color: #666;\n",
              "  }\n",
              "\n",
              "  .colab-df-quickchart {\n",
              "    background-color: var(--bg-color);\n",
              "    border: none;\n",
              "    border-radius: 50%;\n",
              "    cursor: pointer;\n",
              "    display: none;\n",
              "    fill: var(--fill-color);\n",
              "    height: 32px;\n",
              "    padding: 0;\n",
              "    width: 32px;\n",
              "  }\n",
              "\n",
              "  .colab-df-quickchart:hover {\n",
              "    background-color: var(--hover-bg-color);\n",
              "    box-shadow: 0 1px 2px rgba(60, 64, 67, 0.3), 0 1px 3px 1px rgba(60, 64, 67, 0.15);\n",
              "    fill: var(--button-hover-fill-color);\n",
              "  }\n",
              "\n",
              "  .colab-df-quickchart-complete:disabled,\n",
              "  .colab-df-quickchart-complete:disabled:hover {\n",
              "    background-color: var(--disabled-bg-color);\n",
              "    fill: var(--disabled-fill-color);\n",
              "    box-shadow: none;\n",
              "  }\n",
              "\n",
              "  .colab-df-spinner {\n",
              "    border: 2px solid var(--fill-color);\n",
              "    border-color: transparent;\n",
              "    border-bottom-color: var(--fill-color);\n",
              "    animation:\n",
              "      spin 1s steps(1) infinite;\n",
              "  }\n",
              "\n",
              "  @keyframes spin {\n",
              "    0% {\n",
              "      border-color: transparent;\n",
              "      border-bottom-color: var(--fill-color);\n",
              "      border-left-color: var(--fill-color);\n",
              "    }\n",
              "    20% {\n",
              "      border-color: transparent;\n",
              "      border-left-color: var(--fill-color);\n",
              "      border-top-color: var(--fill-color);\n",
              "    }\n",
              "    30% {\n",
              "      border-color: transparent;\n",
              "      border-left-color: var(--fill-color);\n",
              "      border-top-color: var(--fill-color);\n",
              "      border-right-color: var(--fill-color);\n",
              "    }\n",
              "    40% {\n",
              "      border-color: transparent;\n",
              "      border-right-color: var(--fill-color);\n",
              "      border-top-color: var(--fill-color);\n",
              "    }\n",
              "    60% {\n",
              "      border-color: transparent;\n",
              "      border-right-color: var(--fill-color);\n",
              "    }\n",
              "    80% {\n",
              "      border-color: transparent;\n",
              "      border-right-color: var(--fill-color);\n",
              "      border-bottom-color: var(--fill-color);\n",
              "    }\n",
              "    90% {\n",
              "      border-color: transparent;\n",
              "      border-bottom-color: var(--fill-color);\n",
              "    }\n",
              "  }\n",
              "</style>\n",
              "\n",
              "      <script>\n",
              "        async function quickchart(key) {\n",
              "          const quickchartButtonEl =\n",
              "            document.querySelector('#' + key + ' button');\n",
              "          quickchartButtonEl.disabled = true;  // To prevent multiple clicks.\n",
              "          quickchartButtonEl.classList.add('colab-df-spinner');\n",
              "          try {\n",
              "            const charts = await google.colab.kernel.invokeFunction(\n",
              "                'suggestCharts', [key], {});\n",
              "          } catch (error) {\n",
              "            console.error('Error during call to suggestCharts:', error);\n",
              "          }\n",
              "          quickchartButtonEl.classList.remove('colab-df-spinner');\n",
              "          quickchartButtonEl.classList.add('colab-df-quickchart-complete');\n",
              "        }\n",
              "        (() => {\n",
              "          let quickchartButtonEl =\n",
              "            document.querySelector('#df-cb04e5a0-9ed4-49f5-beee-23026f8af12b button');\n",
              "          quickchartButtonEl.style.display =\n",
              "            google.colab.kernel.accessAllowed ? 'block' : 'none';\n",
              "        })();\n",
              "      </script>\n",
              "    </div>\n",
              "\n",
              "    </div>\n",
              "  </div>\n"
            ],
            "application/vnd.google.colaboratory.intrinsic+json": {
              "type": "dataframe",
              "variable_name": "df"
            }
          },
          "metadata": {},
          "execution_count": 6
        }
      ],
      "source": [
        "import pandas as pd\n",
        "from google.colab import files\n",
        "uploaded = files.upload()\n",
        "df = pd.read_excel(\"Datasets Superstore.xlsx\")\n",
        "df.head()\n"
      ]
    },
    {
      "cell_type": "code",
      "source": [
        "df.info()\n",
        "print(\"\\nMissing values:\\n\", df.isnull().sum())\n",
        "df.describe()\n",
        "df.columns"
      ],
      "metadata": {
        "colab": {
          "base_uri": "https://localhost:8080/"
        },
        "id": "dJg6fqdtAJDn",
        "outputId": "b9b90208-029d-4baa-c17e-336690c99f81"
      },
      "execution_count": 7,
      "outputs": [
        {
          "output_type": "stream",
          "name": "stdout",
          "text": [
            "<class 'pandas.core.frame.DataFrame'>\n",
            "RangeIndex: 9994 entries, 0 to 9993\n",
            "Data columns (total 23 columns):\n",
            " #   Column         Non-Null Count  Dtype         \n",
            "---  ------         --------------  -----         \n",
            " 0   Row ID         9994 non-null   int64         \n",
            " 1   Order ID       9994 non-null   object        \n",
            " 2   Order Date     9994 non-null   datetime64[ns]\n",
            " 3   Year           9994 non-null   int64         \n",
            " 4   Month          9994 non-null   object        \n",
            " 5   Day            9994 non-null   int64         \n",
            " 6   Ship Mode      9994 non-null   object        \n",
            " 7   Customer ID    9994 non-null   object        \n",
            " 8   Customer Name  9994 non-null   object        \n",
            " 9   Segment        9994 non-null   object        \n",
            " 10  Country        9994 non-null   object        \n",
            " 11  City           9994 non-null   object        \n",
            " 12  State          9994 non-null   object        \n",
            " 13  Postal Code    9994 non-null   int64         \n",
            " 14  Region         9994 non-null   object        \n",
            " 15  Product ID     9994 non-null   object        \n",
            " 16  Category       9994 non-null   object        \n",
            " 17  Sub-Category   9994 non-null   object        \n",
            " 18  Product Name   9994 non-null   object        \n",
            " 19  Sales          9994 non-null   float64       \n",
            " 20  Quantity       9994 non-null   int64         \n",
            " 21  Discount       9994 non-null   float64       \n",
            " 22  Profit         9994 non-null   float64       \n",
            "dtypes: datetime64[ns](1), float64(3), int64(5), object(14)\n",
            "memory usage: 1.8+ MB\n",
            "\n",
            "Missing values:\n",
            " Row ID           0\n",
            "Order ID         0\n",
            "Order Date       0\n",
            "Year             0\n",
            "Month            0\n",
            "Day              0\n",
            "Ship Mode        0\n",
            "Customer ID      0\n",
            "Customer Name    0\n",
            "Segment          0\n",
            "Country          0\n",
            "City             0\n",
            "State            0\n",
            "Postal Code      0\n",
            "Region           0\n",
            "Product ID       0\n",
            "Category         0\n",
            "Sub-Category     0\n",
            "Product Name     0\n",
            "Sales            0\n",
            "Quantity         0\n",
            "Discount         0\n",
            "Profit           0\n",
            "dtype: int64\n"
          ]
        },
        {
          "output_type": "execute_result",
          "data": {
            "text/plain": [
              "Index(['Row ID', 'Order ID', 'Order Date', 'Year', 'Month', 'Day', 'Ship Mode',\n",
              "       'Customer ID', 'Customer Name', 'Segment', 'Country', 'City', 'State',\n",
              "       'Postal Code', 'Region', 'Product ID', 'Category', 'Sub-Category',\n",
              "       'Product Name', 'Sales', 'Quantity', 'Discount', 'Profit'],\n",
              "      dtype='object')"
            ]
          },
          "metadata": {},
          "execution_count": 7
        }
      ]
    },
    {
      "cell_type": "code",
      "source": [
        "import seaborn as sns\n",
        "import matplotlib.pyplot as plt\n",
        "\n",
        "df.groupby('Category')['Sales'].sum().plot(kind='bar', title='Penjualan per Kategori')\n",
        "plt.ylabel('Total Sales')\n",
        "plt.show()\n"
      ],
      "metadata": {
        "colab": {
          "base_uri": "https://localhost:8080/",
          "height": 562
        },
        "id": "UEiFFkBPAZvh",
        "outputId": "34f7c367-50aa-42e0-f992-37b003841dcc"
      },
      "execution_count": 8,
      "outputs": [
        {
          "output_type": "display_data",
          "data": {
            "text/plain": [
              "<Figure size 640x480 with 1 Axes>"
            ],
            "image/png": "[encoded data removed]"
          },
          "metadata": {}
        }
      ]
    },
    {
      "cell_type": "code",
      "source": [
        "from sklearn.tree import DecisionTreeClassifier\n",
        "from sklearn.model_selection import train_test_split\n",
        "from sklearn.metrics import classification_report, confusion_matrix\n",
        "\n",
        "df['Label'] = df['Profit'].apply(lambda x: 1 if x > 0 else 0)\n",
        "features = df[['Sales', 'Discount', 'Quantity']].fillna(0)\n",
        "labels = df['Label']\n",
        "\n",
        "X_train, X_test, y_train, y_test = train_test_split(features, labels, test_size=0.3, random_state=42)\n",
        "model = DecisionTreeClassifier()\n",
        "model.fit(X_train, y_train)\n",
        "y_pred = model.predict(X_test)\n",
        "\n",
        "print(\"Classification Report:\\n\", classification_report(y_test, y_pred))\n",
        "print(\"Confusion Matrix:\\n\", confusion_matrix(y_test, y_pred))\n"
      ],
      "metadata": {
        "colab": {
          "base_uri": "https://localhost:8080/"
        },
        "id": "s1F0L91OAoax",
        "outputId": "0792e560-de19-4df5-8f5a-4215216536b1"
      },
      "execution_count": 9,
      "outputs": [
        {
          "output_type": "stream",
          "name": "stdout",
          "text": [
            "Classification Report:\n",
            "               precision    recall  f1-score   support\n",
            "\n",
            "           0       0.82      0.81      0.81       547\n",
            "           1       0.96      0.96      0.96      2452\n",
            "\n",
            "    accuracy                           0.93      2999\n",
            "   macro avg       0.89      0.88      0.89      2999\n",
            "weighted avg       0.93      0.93      0.93      2999\n",
            "\n",
            "Confusion Matrix:\n",
            " [[ 442  105]\n",
            " [  97 2355]]\n"
          ]
        }
      ]
    },
    {
      "cell_type": "markdown",
      "source": [
        "1. Import library yang dibutuhkan\n"
      ],
      "metadata": {
        "id": "YnsJyzpeBfPO"
      }
    },
    {
      "cell_type": "code",
      "source": [
        "import numpy as np\n",
        "import pandas as pd\n",
        "import matplotlib.pyplot as plt\n",
        "import seaborn as sns\n",
        "from sklearn.datasets import load_iris\n",
        "from sklearn.model_selection import train_test_split\n",
        "from sklearn.preprocessing import StandardScaler\n",
        "from sklearn.neighbors import KNeighborsClassifier\n",
        "from sklearn.metrics import classification_report, confusion_matrix, accuracy_score\n",
        "print (df.head())"
      ],
      "metadata": {
        "colab": {
          "base_uri": "https://localhost:8080/"
        },
        "id": "rhIKb3s9BgtG",
        "outputId": "c29f84b2-4472-433b-b7a0-44153ba353f2"
      },
      "execution_count": 14,
      "outputs": [
        {
          "output_type": "stream",
          "name": "stdout",
          "text": [
            "   Row ID        Order ID Order Date  Year     Month  Day       Ship Mode  \\\n",
            "0       1  CA-2016-152156 2016-11-08  2016  November    8    Second Class   \n",
            "1       2  CA-2016-152156 2016-11-08  2016  November    8    Second Class   \n",
            "2       3  CA-2016-138688 2016-06-12  2016      Juni   12    Second Class   \n",
            "3       4  US-2015-108966 2015-10-11  2015   Oktober   11  Standard Class   \n",
            "4       5  US-2015-108966 2015-10-11  2015   Oktober   11  Standard Class   \n",
            "\n",
            "  Customer ID    Customer Name    Segment  ... Region       Product ID  \\\n",
            "0    CG-12520      Claire Gute   Consumer  ...  South  FUR-BO-10001798   \n",
            "1    CG-12520      Claire Gute   Consumer  ...  South  FUR-CH-10000454   \n",
            "2    DV-13045  Darrin Van Huff  Corporate  ...   West  OFF-LA-10000240   \n",
            "3    SO-20335   Sean O'Donnell   Consumer  ...  South  FUR-TA-10000577   \n",
            "4    SO-20335   Sean O'Donnell   Consumer  ...  South  OFF-ST-10000760   \n",
            "\n",
            "          Category  Sub-Category  \\\n",
            "0        Furniture     Bookcases   \n",
            "1        Furniture        Chairs   \n",
            "2  Office Supplies        Labels   \n",
            "3        Furniture        Tables   \n",
            "4  Office Supplies       Storage   \n",
            "\n",
            "                                        Product Name     Sales Quantity  \\\n",
            "0                  Bush Somerset Collection Bookcase  261.9600        2   \n",
            "1  Hon Deluxe Fabric Upholstered Stacking Chairs,...  731.9400        3   \n",
            "2  Self-Adhesive Address Labels for Typewriters b...   14.6200        2   \n",
            "3      Bretford CR4500 Series Slim Rectangular Table  957.5775        5   \n",
            "4                     Eldon Fold 'N Roll Cart System   22.3680        2   \n",
            "\n",
            "  Discount    Profit  Label  \n",
            "0     0.00   41.9136      1  \n",
            "1     0.00  219.5820      1  \n",
            "2     0.00    6.8714      1  \n",
            "3     0.45 -383.0310      0  \n",
            "4     0.20    2.5164      1  \n",
            "\n",
            "[5 rows x 24 columns]\n"
          ]
        }
      ]
    },
    {
      "cell_type": "markdown",
      "source": [
        "2. Load dataset Iris\n"
      ],
      "metadata": {
        "id": "NKP1j16BB4TV"
      }
    },
    {
      "cell_type": "code",
      "source": [
        "iris = load_iris()\n",
        "X = iris.data\n",
        "y = iris.target\n",
        "print (df.head())"
      ],
      "metadata": {
        "colab": {
          "base_uri": "https://localhost:8080/"
        },
        "id": "9liPkvuaB727",
        "outputId": "8b917344-7857-4bea-ddc5-08cc2414e0e8"
      },
      "execution_count": 16,
      "outputs": [
        {
          "output_type": "stream",
          "name": "stdout",
          "text": [
            "   Row ID        Order ID Order Date  Year     Month  Day       Ship Mode  \\\n",
            "0       1  CA-2016-152156 2016-11-08  2016  November    8    Second Class   \n",
            "1       2  CA-2016-152156 2016-11-08  2016  November    8    Second Class   \n",
            "2       3  CA-2016-138688 2016-06-12  2016      Juni   12    Second Class   \n",
            "3       4  US-2015-108966 2015-10-11  2015   Oktober   11  Standard Class   \n",
            "4       5  US-2015-108966 2015-10-11  2015   Oktober   11  Standard Class   \n",
            "\n",
            "  Customer ID    Customer Name    Segment  ... Region       Product ID  \\\n",
            "0    CG-12520      Claire Gute   Consumer  ...  South  FUR-BO-10001798   \n",
            "1    CG-12520      Claire Gute   Consumer  ...  South  FUR-CH-10000454   \n",
            "2    DV-13045  Darrin Van Huff  Corporate  ...   West  OFF-LA-10000240   \n",
            "3    SO-20335   Sean O'Donnell   Consumer  ...  South  FUR-TA-10000577   \n",
            "4    SO-20335   Sean O'Donnell   Consumer  ...  South  OFF-ST-10000760   \n",
            "\n",
            "          Category  Sub-Category  \\\n",
            "0        Furniture     Bookcases   \n",
            "1        Furniture        Chairs   \n",
            "2  Office Supplies        Labels   \n",
            "3        Furniture        Tables   \n",
            "4  Office Supplies       Storage   \n",
            "\n",
            "                                        Product Name     Sales Quantity  \\\n",
            "0                  Bush Somerset Collection Bookcase  261.9600        2   \n",
            "1  Hon Deluxe Fabric Upholstered Stacking Chairs,...  731.9400        3   \n",
            "2  Self-Adhesive Address Labels for Typewriters b...   14.6200        2   \n",
            "3      Bretford CR4500 Series Slim Rectangular Table  957.5775        5   \n",
            "4                     Eldon Fold 'N Roll Cart System   22.3680        2   \n",
            "\n",
            "  Discount    Profit  Label  \n",
            "0     0.00   41.9136      1  \n",
            "1     0.00  219.5820      1  \n",
            "2     0.00    6.8714      1  \n",
            "3     0.45 -383.0310      0  \n",
            "4     0.20    2.5164      1  \n",
            "\n",
            "[5 rows x 24 columns]\n"
          ]
        }
      ]
    },
    {
      "cell_type": "markdown",
      "source": [
        " 3. Membagi dataset menjadi data latih dan data uji\n"
      ],
      "metadata": {
        "id": "D2mZj2EXCHq2"
      }
    },
    {
      "cell_type": "code",
      "source": [
        "X_train, X_test, y_train, y_test = train_test_split(X, y, test_size=0.2, random_state=42)\n",
        "print (df.head())\n"
      ],
      "metadata": {
        "colab": {
          "base_uri": "https://localhost:8080/"
        },
        "id": "d9Vnu2YHCMR0",
        "outputId": "095db038-cddd-4d77-f253-8907cd7eb3d3"
      },
      "execution_count": 17,
      "outputs": [
        {
          "output_type": "stream",
          "name": "stdout",
          "text": [
            "   Row ID        Order ID Order Date  Year     Month  Day       Ship Mode  \\\n",
            "0       1  CA-2016-152156 2016-11-08  2016  November    8    Second Class   \n",
            "1       2  CA-2016-152156 2016-11-08  2016  November    8    Second Class   \n",
            "2       3  CA-2016-138688 2016-06-12  2016      Juni   12    Second Class   \n",
            "3       4  US-2015-108966 2015-10-11  2015   Oktober   11  Standard Class   \n",
            "4       5  US-2015-108966 2015-10-11  2015   Oktober   11  Standard Class   \n",
            "\n",
            "  Customer ID    Customer Name    Segment  ... Region       Product ID  \\\n",
            "0    CG-12520      Claire Gute   Consumer  ...  South  FUR-BO-10001798   \n",
            "1    CG-12520      Claire Gute   Consumer  ...  South  FUR-CH-10000454   \n",
            "2    DV-13045  Darrin Van Huff  Corporate  ...   West  OFF-LA-10000240   \n",
            "3    SO-20335   Sean O'Donnell   Consumer  ...  South  FUR-TA-10000577   \n",
            "4    SO-20335   Sean O'Donnell   Consumer  ...  South  OFF-ST-10000760   \n",
            "\n",
            "          Category  Sub-Category  \\\n",
            "0        Furniture     Bookcases   \n",
            "1        Furniture        Chairs   \n",
            "2  Office Supplies        Labels   \n",
            "3        Furniture        Tables   \n",
            "4  Office Supplies       Storage   \n",
            "\n",
            "                                        Product Name     Sales Quantity  \\\n",
            "0                  Bush Somerset Collection Bookcase  261.9600        2   \n",
            "1  Hon Deluxe Fabric Upholstered Stacking Chairs,...  731.9400        3   \n",
            "2  Self-Adhesive Address Labels for Typewriters b...   14.6200        2   \n",
            "3      Bretford CR4500 Series Slim Rectangular Table  957.5775        5   \n",
            "4                     Eldon Fold 'N Roll Cart System   22.3680        2   \n",
            "\n",
            "  Discount    Profit  Label  \n",
            "0     0.00   41.9136      1  \n",
            "1     0.00  219.5820      1  \n",
            "2     0.00    6.8714      1  \n",
            "3     0.45 -383.0310      0  \n",
            "4     0.20    2.5164      1  \n",
            "\n",
            "[5 rows x 24 columns]\n"
          ]
        }
      ]
    },
    {
      "cell_type": "markdown",
      "source": [
        "4. Normalisasi fitur\n"
      ],
      "metadata": {
        "id": "2C0bvCTRCbe9"
      }
    },
    {
      "cell_type": "code",
      "source": [
        "scaler = StandardScaler()\n",
        "X_train = scaler.fit_transform(X_train)\n",
        "X_test = scaler.transform(X_test)\n",
        "print (df.head())"
      ],
      "metadata": {
        "colab": {
          "base_uri": "https://localhost:8080/"
        },
        "id": "G-GISVgkCfeV",
        "outputId": "5ae6107e-541a-4d80-afd0-96f861d2aec8"
      },
      "execution_count": 18,
      "outputs": [
        {
          "output_type": "stream",
          "name": "stdout",
          "text": [
            "   Row ID        Order ID Order Date  Year     Month  Day       Ship Mode  \\\n",
            "0       1  CA-2016-152156 2016-11-08  2016  November    8    Second Class   \n",
            "1       2  CA-2016-152156 2016-11-08  2016  November    8    Second Class   \n",
            "2       3  CA-2016-138688 2016-06-12  2016      Juni   12    Second Class   \n",
            "3       4  US-2015-108966 2015-10-11  2015   Oktober   11  Standard Class   \n",
            "4       5  US-2015-108966 2015-10-11  2015   Oktober   11  Standard Class   \n",
            "\n",
            "  Customer ID    Customer Name    Segment  ... Region       Product ID  \\\n",
            "0    CG-12520      Claire Gute   Consumer  ...  South  FUR-BO-10001798   \n",
            "1    CG-12520      Claire Gute   Consumer  ...  South  FUR-CH-10000454   \n",
            "2    DV-13045  Darrin Van Huff  Corporate  ...   West  OFF-LA-10000240   \n",
            "3    SO-20335   Sean O'Donnell   Consumer  ...  South  FUR-TA-10000577   \n",
            "4    SO-20335   Sean O'Donnell   Consumer  ...  South  OFF-ST-10000760   \n",
            "\n",
            "          Category  Sub-Category  \\\n",
            "0        Furniture     Bookcases   \n",
            "1        Furniture        Chairs   \n",
            "2  Office Supplies        Labels   \n",
            "3        Furniture        Tables   \n",
            "4  Office Supplies       Storage   \n",
            "\n",
            "                                        Product Name     Sales Quantity  \\\n",
            "0                  Bush Somerset Collection Bookcase  261.9600        2   \n",
            "1  Hon Deluxe Fabric Upholstered Stacking Chairs,...  731.9400        3   \n",
            "2  Self-Adhesive Address Labels for Typewriters b...   14.6200        2   \n",
            "3      Bretford CR4500 Series Slim Rectangular Table  957.5775        5   \n",
            "4                     Eldon Fold 'N Roll Cart System   22.3680        2   \n",
            "\n",
            "  Discount    Profit  Label  \n",
            "0     0.00   41.9136      1  \n",
            "1     0.00  219.5820      1  \n",
            "2     0.00    6.8714      1  \n",
            "3     0.45 -383.0310      0  \n",
            "4     0.20    2.5164      1  \n",
            "\n",
            "[5 rows x 24 columns]\n"
          ]
        }
      ]
    },
    {
      "cell_type": "markdown",
      "source": [
        "5. Membuat dan melatih model KNN"
      ],
      "metadata": {
        "id": "Gobv6jJPCyAT"
      }
    },
    {
      "cell_type": "code",
      "source": [
        "knn = KNeighborsClassifier(n_neighbors=3)\n",
        "knn.fit(X_train, y_train)\n",
        "print (df.head())"
      ],
      "metadata": {
        "colab": {
          "base_uri": "https://localhost:8080/"
        },
        "id": "06_9QSyiCzAK",
        "outputId": "c0d9bb29-51d7-4cd9-e5e6-84b763783d91"
      },
      "execution_count": 19,
      "outputs": [
        {
          "output_type": "stream",
          "name": "stdout",
          "text": [
            "   Row ID        Order ID Order Date  Year     Month  Day       Ship Mode  \\\n",
            "0       1  CA-2016-152156 2016-11-08  2016  November    8    Second Class   \n",
            "1       2  CA-2016-152156 2016-11-08  2016  November    8    Second Class   \n",
            "2       3  CA-2016-138688 2016-06-12  2016      Juni   12    Second Class   \n",
            "3       4  US-2015-108966 2015-10-11  2015   Oktober   11  Standard Class   \n",
            "4       5  US-2015-108966 2015-10-11  2015   Oktober   11  Standard Class   \n",
            "\n",
            "  Customer ID    Customer Name    Segment  ... Region       Product ID  \\\n",
            "0    CG-12520      Claire Gute   Consumer  ...  South  FUR-BO-10001798   \n",
            "1    CG-12520      Claire Gute   Consumer  ...  South  FUR-CH-10000454   \n",
            "2    DV-13045  Darrin Van Huff  Corporate  ...   West  OFF-LA-10000240   \n",
            "3    SO-20335   Sean O'Donnell   Consumer  ...  South  FUR-TA-10000577   \n",
            "4    SO-20335   Sean O'Donnell   Consumer  ...  South  OFF-ST-10000760   \n",
            "\n",
            "          Category  Sub-Category  \\\n",
            "0        Furniture     Bookcases   \n",
            "1        Furniture        Chairs   \n",
            "2  Office Supplies        Labels   \n",
            "3        Furniture        Tables   \n",
            "4  Office Supplies       Storage   \n",
            "\n",
            "                                        Product Name     Sales Quantity  \\\n",
            "0                  Bush Somerset Collection Bookcase  261.9600        2   \n",
            "1  Hon Deluxe Fabric Upholstered Stacking Chairs,...  731.9400        3   \n",
            "2  Self-Adhesive Address Labels for Typewriters b...   14.6200        2   \n",
            "3      Bretford CR4500 Series Slim Rectangular Table  957.5775        5   \n",
            "4                     Eldon Fold 'N Roll Cart System   22.3680        2   \n",
            "\n",
            "  Discount    Profit  Label  \n",
            "0     0.00   41.9136      1  \n",
            "1     0.00  219.5820      1  \n",
            "2     0.00    6.8714      1  \n",
            "3     0.45 -383.0310      0  \n",
            "4     0.20    2.5164      1  \n",
            "\n",
            "[5 rows x 24 columns]\n"
          ]
        }
      ]
    },
    {
      "cell_type": "markdown",
      "source": [
        " 6. Melakukan prediksi"
      ],
      "metadata": {
        "id": "Q2p22y8nC_R-"
      }
    },
    {
      "cell_type": "code",
      "source": [
        "y_pred = knn.predict(X_test)\n",
        "print (df.head())\n"
      ],
      "metadata": {
        "colab": {
          "base_uri": "https://localhost:8080/"
        },
        "id": "bKurbSeWDDvy",
        "outputId": "1b5a0aea-1d7e-4d6c-b47f-349d9887da6c"
      },
      "execution_count": 20,
      "outputs": [
        {
          "output_type": "stream",
          "name": "stdout",
          "text": [
            "   Row ID        Order ID Order Date  Year     Month  Day       Ship Mode  \\\n",
            "0       1  CA-2016-152156 2016-11-08  2016  November    8    Second Class   \n",
            "1       2  CA-2016-152156 2016-11-08  2016  November    8    Second Class   \n",
            "2       3  CA-2016-138688 2016-06-12  2016      Juni   12    Second Class   \n",
            "3       4  US-2015-108966 2015-10-11  2015   Oktober   11  Standard Class   \n",
            "4       5  US-2015-108966 2015-10-11  2015   Oktober   11  Standard Class   \n",
            "\n",
            "  Customer ID    Customer Name    Segment  ... Region       Product ID  \\\n",
            "0    CG-12520      Claire Gute   Consumer  ...  South  FUR-BO-10001798   \n",
            "1    CG-12520      Claire Gute   Consumer  ...  South  FUR-CH-10000454   \n",
            "2    DV-13045  Darrin Van Huff  Corporate  ...   West  OFF-LA-10000240   \n",
            "3    SO-20335   Sean O'Donnell   Consumer  ...  South  FUR-TA-10000577   \n",
            "4    SO-20335   Sean O'Donnell   Consumer  ...  South  OFF-ST-10000760   \n",
            "\n",
            "          Category  Sub-Category  \\\n",
            "0        Furniture     Bookcases   \n",
            "1        Furniture        Chairs   \n",
            "2  Office Supplies        Labels   \n",
            "3        Furniture        Tables   \n",
            "4  Office Supplies       Storage   \n",
            "\n",
            "                                        Product Name     Sales Quantity  \\\n",
            "0                  Bush Somerset Collection Bookcase  261.9600        2   \n",
            "1  Hon Deluxe Fabric Upholstered Stacking Chairs,...  731.9400        3   \n",
            "2  Self-Adhesive Address Labels for Typewriters b...   14.6200        2   \n",
            "3      Bretford CR4500 Series Slim Rectangular Table  957.5775        5   \n",
            "4                     Eldon Fold 'N Roll Cart System   22.3680        2   \n",
            "\n",
            "  Discount    Profit  Label  \n",
            "0     0.00   41.9136      1  \n",
            "1     0.00  219.5820      1  \n",
            "2     0.00    6.8714      1  \n",
            "3     0.45 -383.0310      0  \n",
            "4     0.20    2.5164      1  \n",
            "\n",
            "[5 rows x 24 columns]\n"
          ]
        }
      ]
    },
    {
      "cell_type": "markdown",
      "source": [
        "7. Evaluasi hasil prediksi\n"
      ],
      "metadata": {
        "id": "2jht6Yr1DWuM"
      }
    },
    {
      "cell_type": "code",
      "source": [
        "print(\"Akurasi:\", accuracy_score(y_test, y_pred))\n",
        "print(\"\\nConfusion Matrix:\\n\", confusion_matrix(y_test, y_pred))\n",
        "print(\"\\nClassification Report:\\n\", classification_report(y_test, y_pred))\n",
        "print (df.head())\n"
      ],
      "metadata": {
        "colab": {
          "base_uri": "https://localhost:8080/"
        },
        "id": "1_FWX1FDDZIP",
        "outputId": "cb2fb9d9-0b1e-42f6-dbac-a92c2321db07"
      },
      "execution_count": 21,
      "outputs": [
        {
          "output_type": "stream",
          "name": "stdout",
          "text": [
            "Akurasi: 1.0\n",
            "\n",
            "Confusion Matrix:\n",
            " [[10  0  0]\n",
            " [ 0  9  0]\n",
            " [ 0  0 11]]\n",
            "\n",
            "Classification Report:\n",
            "               precision    recall  f1-score   support\n",
            "\n",
            "           0       1.00      1.00      1.00        10\n",
            "           1       1.00      1.00      1.00         9\n",
            "           2       1.00      1.00      1.00        11\n",
            "\n",
            "    accuracy                           1.00        30\n",
            "   macro avg       1.00      1.00      1.00        30\n",
            "weighted avg       1.00      1.00      1.00        30\n",
            "\n",
            "   Row ID        Order ID Order Date  Year     Month  Day       Ship Mode  \\\n",
            "0       1  CA-2016-152156 2016-11-08  2016  November    8    Second Class   \n",
            "1       2  CA-2016-152156 2016-11-08  2016  November    8    Second Class   \n",
            "2       3  CA-2016-138688 2016-06-12  2016      Juni   12    Second Class   \n",
            "3       4  US-2015-108966 2015-10-11  2015   Oktober   11  Standard Class   \n",
            "4       5  US-2015-108966 2015-10-11  2015   Oktober   11  Standard Class   \n",
            "\n",
            "  Customer ID    Customer Name    Segment  ... Region       Product ID  \\\n",
            "0    CG-12520      Claire Gute   Consumer  ...  South  FUR-BO-10001798   \n",
            "1    CG-12520      Claire Gute   Consumer  ...  South  FUR-CH-10000454   \n",
            "2    DV-13045  Darrin Van Huff  Corporate  ...   West  OFF-LA-10000240   \n",
            "3    SO-20335   Sean O'Donnell   Consumer  ...  South  FUR-TA-10000577   \n",
            "4    SO-20335   Sean O'Donnell   Consumer  ...  South  OFF-ST-10000760   \n",
            "\n",
            "          Category  Sub-Category  \\\n",
            "0        Furniture     Bookcases   \n",
            "1        Furniture        Chairs   \n",
            "2  Office Supplies        Labels   \n",
            "3        Furniture        Tables   \n",
            "4  Office Supplies       Storage   \n",
            "\n",
            "                                        Product Name     Sales Quantity  \\\n",
            "0                  Bush Somerset Collection Bookcase  261.9600        2   \n",
            "1  Hon Deluxe Fabric Upholstered Stacking Chairs,...  731.9400        3   \n",
            "2  Self-Adhesive Address Labels for Typewriters b...   14.6200        2   \n",
            "3      Bretford CR4500 Series Slim Rectangular Table  957.5775        5   \n",
            "4                     Eldon Fold 'N Roll Cart System   22.3680        2   \n",
            "\n",
            "  Discount    Profit  Label  \n",
            "0     0.00   41.9136      1  \n",
            "1     0.00  219.5820      1  \n",
            "2     0.00    6.8714      1  \n",
            "3     0.45 -383.0310      0  \n",
            "4     0.20    2.5164      1  \n",
            "\n",
            "[5 rows x 24 columns]\n"
          ]
        }
      ]
    },
    {
      "cell_type": "markdown",
      "source": [
        "8. Visualisasi Confusion Matrix\n"
      ],
      "metadata": {
        "id": "rUTNyL3YDnRL"
      }
    },
    {
      "cell_type": "code",
      "source": [
        "plt.figure(figsize=(6,4))\n",
        "sns.heatmap(confusion_matrix(y_test, y_pred), annot=True, cmap='Blues', fmt='g')\n",
        "plt.title('Confusion Matrix')\n",
        "plt.xlabel('Predicted')\n",
        "plt.ylabel('Actual')\n",
        "plt.show()\n",
        "print (df.head())"
      ],
      "metadata": {
        "colab": {
          "base_uri": "https://localhost:8080/",
          "height": 1000
        },
        "id": "kt7x0bSXDoMS",
        "outputId": "82dca66c-3cb6-4260-8348-90eaa336bc91"
      },
      "execution_count": 22,
      "outputs": [
        {
          "output_type": "display_data",
          "data": {
            "text/plain": [
              "<Figure size 600x400 with 2 Axes>"
            ],
            "image/png": "[encoded data removed]"
          },
          "metadata": {}
        },
        {
          "output_type": "stream",
          "name": "stdout",
          "text": [
            "   Row ID        Order ID Order Date  Year     Month  Day       Ship Mode  \\\n",
            "0       1  CA-2016-152156 2016-11-08  2016  November    8    Second Class   \n",
            "1       2  CA-2016-152156 2016-11-08  2016  November    8    Second Class   \n",
            "2       3  CA-2016-138688 2016-06-12  2016      Juni   12    Second Class   \n",
            "3       4  US-2015-108966 2015-10-11  2015   Oktober   11  Standard Class   \n",
            "4       5  US-2015-108966 2015-10-11  2015   Oktober   11  Standard Class   \n",
            "\n",
            "  Customer ID    Customer Name    Segment  ... Region       Product ID  \\\n",
            "0    CG-12520      Claire Gute   Consumer  ...  South  FUR-BO-10001798   \n",
            "1    CG-12520      Claire Gute   Consumer  ...  South  FUR-CH-10000454   \n",
            "2    DV-13045  Darrin Van Huff  Corporate  ...   West  OFF-LA-10000240   \n",
            "3    SO-20335   Sean O'Donnell   Consumer  ...  South  FUR-TA-10000577   \n",
            "4    SO-20335   Sean O'Donnell   Consumer  ...  South  OFF-ST-10000760   \n",
            "\n",
            "          Category  Sub-Category  \\\n",
            "0        Furniture     Bookcases   \n",
            "1        Furniture        Chairs   \n",
            "2  Office Supplies        Labels   \n",
            "3        Furniture        Tables   \n",
            "4  Office Supplies       Storage   \n",
            "\n",
            "                                        Product Name     Sales Quantity  \\\n",
            "0                  Bush Somerset Collection Bookcase  261.9600        2   \n",
            "1  Hon Deluxe Fabric Upholstered Stacking Chairs,...  731.9400        3   \n",
            "2  Self-Adhesive Address Labels for Typewriters b...   14.6200        2   \n",
            "3      Bretford CR4500 Series Slim Rectangular Table  957.5775        5   \n",
            "4                     Eldon Fold 'N Roll Cart System   22.3680        2   \n",
            "\n",
            "  Discount    Profit  Label  \n",
            "0     0.00   41.9136      1  \n",
            "1     0.00  219.5820      1  \n",
            "2     0.00    6.8714      1  \n",
            "3     0.45 -383.0310      0  \n",
            "4     0.20    2.5164      1  \n",
            "\n",
            "[5 rows x 24 columns]\n"
          ]
        }
      ]
    },
    {
      "cell_type": "markdown",
      "source": [
        "Import library"
      ],
      "metadata": {
        "id": "YZHmWJeIEbKb"
      }
    },
    {
      "cell_type": "code",
      "source": [
        "from sklearn.datasets import load_iris\n",
        "from sklearn.model_selection import train_test_split\n",
        "from sklearn.neighbors import KNeighborsClassifier\n",
        "from sklearn.metrics import accuracy_score\n",
        "print (df.head())"
      ],
      "metadata": {
        "colab": {
          "base_uri": "https://localhost:8080/"
        },
        "id": "7GEkBXiQEdHs",
        "outputId": "4052cac0-5631-47c0-aa3b-7dfd9277e6ff"
      },
      "execution_count": 24,
      "outputs": [
        {
          "output_type": "stream",
          "name": "stdout",
          "text": [
            "   Row ID        Order ID Order Date  Year     Month  Day       Ship Mode  \\\n",
            "0       1  CA-2016-152156 2016-11-08  2016  November    8    Second Class   \n",
            "1       2  CA-2016-152156 2016-11-08  2016  November    8    Second Class   \n",
            "2       3  CA-2016-138688 2016-06-12  2016      Juni   12    Second Class   \n",
            "3       4  US-2015-108966 2015-10-11  2015   Oktober   11  Standard Class   \n",
            "4       5  US-2015-108966 2015-10-11  2015   Oktober   11  Standard Class   \n",
            "\n",
            "  Customer ID    Customer Name    Segment  ... Region       Product ID  \\\n",
            "0    CG-12520      Claire Gute   Consumer  ...  South  FUR-BO-10001798   \n",
            "1    CG-12520      Claire Gute   Consumer  ...  South  FUR-CH-10000454   \n",
            "2    DV-13045  Darrin Van Huff  Corporate  ...   West  OFF-LA-10000240   \n",
            "3    SO-20335   Sean O'Donnell   Consumer  ...  South  FUR-TA-10000577   \n",
            "4    SO-20335   Sean O'Donnell   Consumer  ...  South  OFF-ST-10000760   \n",
            "\n",
            "          Category  Sub-Category  \\\n",
            "0        Furniture     Bookcases   \n",
            "1        Furniture        Chairs   \n",
            "2  Office Supplies        Labels   \n",
            "3        Furniture        Tables   \n",
            "4  Office Supplies       Storage   \n",
            "\n",
            "                                        Product Name     Sales Quantity  \\\n",
            "0                  Bush Somerset Collection Bookcase  261.9600        2   \n",
            "1  Hon Deluxe Fabric Upholstered Stacking Chairs,...  731.9400        3   \n",
            "2  Self-Adhesive Address Labels for Typewriters b...   14.6200        2   \n",
            "3      Bretford CR4500 Series Slim Rectangular Table  957.5775        5   \n",
            "4                     Eldon Fold 'N Roll Cart System   22.3680        2   \n",
            "\n",
            "  Discount    Profit  Label  \n",
            "0     0.00   41.9136      1  \n",
            "1     0.00  219.5820      1  \n",
            "2     0.00    6.8714      1  \n",
            "3     0.45 -383.0310      0  \n",
            "4     0.20    2.5164      1  \n",
            "\n",
            "[5 rows x 24 columns]\n"
          ]
        }
      ]
    },
    {
      "cell_type": "markdown",
      "source": [
        "Memuat dataset Iris"
      ],
      "metadata": {
        "id": "LEqZRqNbE2_N"
      }
    },
    {
      "cell_type": "code",
      "source": [
        "data_iris = load_iris()\n",
        "fitur = data_iris.data       # Data fitur (panjang & lebar kelopak, dsb)\n",
        "label = data_iris.target\n",
        "print (df.head())"
      ],
      "metadata": {
        "colab": {
          "base_uri": "https://localhost:8080/"
        },
        "id": "Au4xzVvXE4r2",
        "outputId": "f6a01ac0-b68f-42ca-e756-3edbe32afa36"
      },
      "execution_count": 25,
      "outputs": [
        {
          "output_type": "stream",
          "name": "stdout",
          "text": [
            "   Row ID        Order ID Order Date  Year     Month  Day       Ship Mode  \\\n",
            "0       1  CA-2016-152156 2016-11-08  2016  November    8    Second Class   \n",
            "1       2  CA-2016-152156 2016-11-08  2016  November    8    Second Class   \n",
            "2       3  CA-2016-138688 2016-06-12  2016      Juni   12    Second Class   \n",
            "3       4  US-2015-108966 2015-10-11  2015   Oktober   11  Standard Class   \n",
            "4       5  US-2015-108966 2015-10-11  2015   Oktober   11  Standard Class   \n",
            "\n",
            "  Customer ID    Customer Name    Segment  ... Region       Product ID  \\\n",
            "0    CG-12520      Claire Gute   Consumer  ...  South  FUR-BO-10001798   \n",
            "1    CG-12520      Claire Gute   Consumer  ...  South  FUR-CH-10000454   \n",
            "2    DV-13045  Darrin Van Huff  Corporate  ...   West  OFF-LA-10000240   \n",
            "3    SO-20335   Sean O'Donnell   Consumer  ...  South  FUR-TA-10000577   \n",
            "4    SO-20335   Sean O'Donnell   Consumer  ...  South  OFF-ST-10000760   \n",
            "\n",
            "          Category  Sub-Category  \\\n",
            "0        Furniture     Bookcases   \n",
            "1        Furniture        Chairs   \n",
            "2  Office Supplies        Labels   \n",
            "3        Furniture        Tables   \n",
            "4  Office Supplies       Storage   \n",
            "\n",
            "                                        Product Name     Sales Quantity  \\\n",
            "0                  Bush Somerset Collection Bookcase  261.9600        2   \n",
            "1  Hon Deluxe Fabric Upholstered Stacking Chairs,...  731.9400        3   \n",
            "2  Self-Adhesive Address Labels for Typewriters b...   14.6200        2   \n",
            "3      Bretford CR4500 Series Slim Rectangular Table  957.5775        5   \n",
            "4                     Eldon Fold 'N Roll Cart System   22.3680        2   \n",
            "\n",
            "  Discount    Profit  Label  \n",
            "0     0.00   41.9136      1  \n",
            "1     0.00  219.5820      1  \n",
            "2     0.00    6.8714      1  \n",
            "3     0.45 -383.0310      0  \n",
            "4     0.20    2.5164      1  \n",
            "\n",
            "[5 rows x 24 columns]\n"
          ]
        }
      ]
    },
    {
      "cell_type": "markdown",
      "source": [
        "Membagi data menjadi data latih dan data uji (70% latih, 30% uji)"
      ],
      "metadata": {
        "id": "oYKFr5SPFFJV"
      }
    },
    {
      "cell_type": "code",
      "source": [
        "X_latih, X_uji, y_latih, y_uji = train_test_split(fitur, label, test_size=0.3, random_state=1)\n",
        "print (df.head())\n"
      ],
      "metadata": {
        "colab": {
          "base_uri": "https://localhost:8080/"
        },
        "id": "duKTKGkYFGOO",
        "outputId": "94cbaa79-fe50-40c8-ca9a-651ce1972f1f"
      },
      "execution_count": 26,
      "outputs": [
        {
          "output_type": "stream",
          "name": "stdout",
          "text": [
            "   Row ID        Order ID Order Date  Year     Month  Day       Ship Mode  \\\n",
            "0       1  CA-2016-152156 2016-11-08  2016  November    8    Second Class   \n",
            "1       2  CA-2016-152156 2016-11-08  2016  November    8    Second Class   \n",
            "2       3  CA-2016-138688 2016-06-12  2016      Juni   12    Second Class   \n",
            "3       4  US-2015-108966 2015-10-11  2015   Oktober   11  Standard Class   \n",
            "4       5  US-2015-108966 2015-10-11  2015   Oktober   11  Standard Class   \n",
            "\n",
            "  Customer ID    Customer Name    Segment  ... Region       Product ID  \\\n",
            "0    CG-12520      Claire Gute   Consumer  ...  South  FUR-BO-10001798   \n",
            "1    CG-12520      Claire Gute   Consumer  ...  South  FUR-CH-10000454   \n",
            "2    DV-13045  Darrin Van Huff  Corporate  ...   West  OFF-LA-10000240   \n",
            "3    SO-20335   Sean O'Donnell   Consumer  ...  South  FUR-TA-10000577   \n",
            "4    SO-20335   Sean O'Donnell   Consumer  ...  South  OFF-ST-10000760   \n",
            "\n",
            "          Category  Sub-Category  \\\n",
            "0        Furniture     Bookcases   \n",
            "1        Furniture        Chairs   \n",
            "2  Office Supplies        Labels   \n",
            "3        Furniture        Tables   \n",
            "4  Office Supplies       Storage   \n",
            "\n",
            "                                        Product Name     Sales Quantity  \\\n",
            "0                  Bush Somerset Collection Bookcase  261.9600        2   \n",
            "1  Hon Deluxe Fabric Upholstered Stacking Chairs,...  731.9400        3   \n",
            "2  Self-Adhesive Address Labels for Typewriters b...   14.6200        2   \n",
            "3      Bretford CR4500 Series Slim Rectangular Table  957.5775        5   \n",
            "4                     Eldon Fold 'N Roll Cart System   22.3680        2   \n",
            "\n",
            "  Discount    Profit  Label  \n",
            "0     0.00   41.9136      1  \n",
            "1     0.00  219.5820      1  \n",
            "2     0.00    6.8714      1  \n",
            "3     0.45 -383.0310      0  \n",
            "4     0.20    2.5164      1  \n",
            "\n",
            "[5 rows x 24 columns]\n"
          ]
        }
      ]
    },
    {
      "cell_type": "markdown",
      "source": [
        "Membuat model KNN dengan jumlah tetangga k = 3"
      ],
      "metadata": {
        "id": "SeXcAFiVFQAj"
      }
    },
    {
      "cell_type": "code",
      "source": [
        "model_knn = KNeighborsClassifier(n_neighbors=3)\n",
        "print (df.head())"
      ],
      "metadata": {
        "colab": {
          "base_uri": "https://localhost:8080/"
        },
        "id": "m-E2kCemFXWe",
        "outputId": "e7af4b6e-b12c-4814-a074-c30a12a11f93"
      },
      "execution_count": 27,
      "outputs": [
        {
          "output_type": "stream",
          "name": "stdout",
          "text": [
            "   Row ID        Order ID Order Date  Year     Month  Day       Ship Mode  \\\n",
            "0       1  CA-2016-152156 2016-11-08  2016  November    8    Second Class   \n",
            "1       2  CA-2016-152156 2016-11-08  2016  November    8    Second Class   \n",
            "2       3  CA-2016-138688 2016-06-12  2016      Juni   12    Second Class   \n",
            "3       4  US-2015-108966 2015-10-11  2015   Oktober   11  Standard Class   \n",
            "4       5  US-2015-108966 2015-10-11  2015   Oktober   11  Standard Class   \n",
            "\n",
            "  Customer ID    Customer Name    Segment  ... Region       Product ID  \\\n",
            "0    CG-12520      Claire Gute   Consumer  ...  South  FUR-BO-10001798   \n",
            "1    CG-12520      Claire Gute   Consumer  ...  South  FUR-CH-10000454   \n",
            "2    DV-13045  Darrin Van Huff  Corporate  ...   West  OFF-LA-10000240   \n",
            "3    SO-20335   Sean O'Donnell   Consumer  ...  South  FUR-TA-10000577   \n",
            "4    SO-20335   Sean O'Donnell   Consumer  ...  South  OFF-ST-10000760   \n",
            "\n",
            "          Category  Sub-Category  \\\n",
            "0        Furniture     Bookcases   \n",
            "1        Furniture        Chairs   \n",
            "2  Office Supplies        Labels   \n",
            "3        Furniture        Tables   \n",
            "4  Office Supplies       Storage   \n",
            "\n",
            "                                        Product Name     Sales Quantity  \\\n",
            "0                  Bush Somerset Collection Bookcase  261.9600        2   \n",
            "1  Hon Deluxe Fabric Upholstered Stacking Chairs,...  731.9400        3   \n",
            "2  Self-Adhesive Address Labels for Typewriters b...   14.6200        2   \n",
            "3      Bretford CR4500 Series Slim Rectangular Table  957.5775        5   \n",
            "4                     Eldon Fold 'N Roll Cart System   22.3680        2   \n",
            "\n",
            "  Discount    Profit  Label  \n",
            "0     0.00   41.9136      1  \n",
            "1     0.00  219.5820      1  \n",
            "2     0.00    6.8714      1  \n",
            "3     0.45 -383.0310      0  \n",
            "4     0.20    2.5164      1  \n",
            "\n",
            "[5 rows x 24 columns]\n"
          ]
        }
      ]
    },
    {
      "cell_type": "markdown",
      "source": [
        "Melatih model dengan data latih"
      ],
      "metadata": {
        "id": "NNzHap94FkJn"
      }
    },
    {
      "cell_type": "code",
      "source": [
        "model_knn.fit(X_latih, y_latih)\n",
        "print (df.head())"
      ],
      "metadata": {
        "colab": {
          "base_uri": "https://localhost:8080/"
        },
        "id": "OlNxApu2Fk_V",
        "outputId": "9c821200-2dd4-4e40-a322-149dd373dcda"
      },
      "execution_count": 28,
      "outputs": [
        {
          "output_type": "stream",
          "name": "stdout",
          "text": [
            "   Row ID        Order ID Order Date  Year     Month  Day       Ship Mode  \\\n",
            "0       1  CA-2016-152156 2016-11-08  2016  November    8    Second Class   \n",
            "1       2  CA-2016-152156 2016-11-08  2016  November    8    Second Class   \n",
            "2       3  CA-2016-138688 2016-06-12  2016      Juni   12    Second Class   \n",
            "3       4  US-2015-108966 2015-10-11  2015   Oktober   11  Standard Class   \n",
            "4       5  US-2015-108966 2015-10-11  2015   Oktober   11  Standard Class   \n",
            "\n",
            "  Customer ID    Customer Name    Segment  ... Region       Product ID  \\\n",
            "0    CG-12520      Claire Gute   Consumer  ...  South  FUR-BO-10001798   \n",
            "1    CG-12520      Claire Gute   Consumer  ...  South  FUR-CH-10000454   \n",
            "2    DV-13045  Darrin Van Huff  Corporate  ...   West  OFF-LA-10000240   \n",
            "3    SO-20335   Sean O'Donnell   Consumer  ...  South  FUR-TA-10000577   \n",
            "4    SO-20335   Sean O'Donnell   Consumer  ...  South  OFF-ST-10000760   \n",
            "\n",
            "          Category  Sub-Category  \\\n",
            "0        Furniture     Bookcases   \n",
            "1        Furniture        Chairs   \n",
            "2  Office Supplies        Labels   \n",
            "3        Furniture        Tables   \n",
            "4  Office Supplies       Storage   \n",
            "\n",
            "                                        Product Name     Sales Quantity  \\\n",
            "0                  Bush Somerset Collection Bookcase  261.9600        2   \n",
            "1  Hon Deluxe Fabric Upholstered Stacking Chairs,...  731.9400        3   \n",
            "2  Self-Adhesive Address Labels for Typewriters b...   14.6200        2   \n",
            "3      Bretford CR4500 Series Slim Rectangular Table  957.5775        5   \n",
            "4                     Eldon Fold 'N Roll Cart System   22.3680        2   \n",
            "\n",
            "  Discount    Profit  Label  \n",
            "0     0.00   41.9136      1  \n",
            "1     0.00  219.5820      1  \n",
            "2     0.00    6.8714      1  \n",
            "3     0.45 -383.0310      0  \n",
            "4     0.20    2.5164      1  \n",
            "\n",
            "[5 rows x 24 columns]\n"
          ]
        }
      ]
    },
    {
      "cell_type": "markdown",
      "source": [
        "Memprediksi data uji"
      ],
      "metadata": {
        "id": "tyWYWweEFujZ"
      }
    },
    {
      "cell_type": "code",
      "source": [
        "prediksi = model_knn.predict(X_uji)\n",
        "print (df.head())"
      ],
      "metadata": {
        "colab": {
          "base_uri": "https://localhost:8080/"
        },
        "id": "-uJ3lr8hFvYD",
        "outputId": "d4884e73-2599-4c15-e2c1-034d8840b11d"
      },
      "execution_count": 29,
      "outputs": [
        {
          "output_type": "stream",
          "name": "stdout",
          "text": [
            "   Row ID        Order ID Order Date  Year     Month  Day       Ship Mode  \\\n",
            "0       1  CA-2016-152156 2016-11-08  2016  November    8    Second Class   \n",
            "1       2  CA-2016-152156 2016-11-08  2016  November    8    Second Class   \n",
            "2       3  CA-2016-138688 2016-06-12  2016      Juni   12    Second Class   \n",
            "3       4  US-2015-108966 2015-10-11  2015   Oktober   11  Standard Class   \n",
            "4       5  US-2015-108966 2015-10-11  2015   Oktober   11  Standard Class   \n",
            "\n",
            "  Customer ID    Customer Name    Segment  ... Region       Product ID  \\\n",
            "0    CG-12520      Claire Gute   Consumer  ...  South  FUR-BO-10001798   \n",
            "1    CG-12520      Claire Gute   Consumer  ...  South  FUR-CH-10000454   \n",
            "2    DV-13045  Darrin Van Huff  Corporate  ...   West  OFF-LA-10000240   \n",
            "3    SO-20335   Sean O'Donnell   Consumer  ...  South  FUR-TA-10000577   \n",
            "4    SO-20335   Sean O'Donnell   Consumer  ...  South  OFF-ST-10000760   \n",
            "\n",
            "          Category  Sub-Category  \\\n",
            "0        Furniture     Bookcases   \n",
            "1        Furniture        Chairs   \n",
            "2  Office Supplies        Labels   \n",
            "3        Furniture        Tables   \n",
            "4  Office Supplies       Storage   \n",
            "\n",
            "                                        Product Name     Sales Quantity  \\\n",
            "0                  Bush Somerset Collection Bookcase  261.9600        2   \n",
            "1  Hon Deluxe Fabric Upholstered Stacking Chairs,...  731.9400        3   \n",
            "2  Self-Adhesive Address Labels for Typewriters b...   14.6200        2   \n",
            "3      Bretford CR4500 Series Slim Rectangular Table  957.5775        5   \n",
            "4                     Eldon Fold 'N Roll Cart System   22.3680        2   \n",
            "\n",
            "  Discount    Profit  Label  \n",
            "0     0.00   41.9136      1  \n",
            "1     0.00  219.5820      1  \n",
            "2     0.00    6.8714      1  \n",
            "3     0.45 -383.0310      0  \n",
            "4     0.20    2.5164      1  \n",
            "\n",
            "[5 rows x 24 columns]\n"
          ]
        }
      ]
    },
    {
      "cell_type": "code",
      "source": [
        "akurasi = accuracy_score(y_uji, prediksi)\n",
        "print(f\"Akurasi model KNN: {akurasi:.2f}\")\n",
        "print (df.head())"
      ],
      "metadata": {
        "colab": {
          "base_uri": "https://localhost:8080/"
        },
        "id": "VGDTXbGYF8G0",
        "outputId": "295b5246-c3a9-4533-9434-c0e8fd0a9a83"
      },
      "execution_count": 30,
      "outputs": [
        {
          "output_type": "stream",
          "name": "stdout",
          "text": [
            "Akurasi model KNN: 0.98\n",
            "   Row ID        Order ID Order Date  Year     Month  Day       Ship Mode  \\\n",
            "0       1  CA-2016-152156 2016-11-08  2016  November    8    Second Class   \n",
            "1       2  CA-2016-152156 2016-11-08  2016  November    8    Second Class   \n",
            "2       3  CA-2016-138688 2016-06-12  2016      Juni   12    Second Class   \n",
            "3       4  US-2015-108966 2015-10-11  2015   Oktober   11  Standard Class   \n",
            "4       5  US-2015-108966 2015-10-11  2015   Oktober   11  Standard Class   \n",
            "\n",
            "  Customer ID    Customer Name    Segment  ... Region       Product ID  \\\n",
            "0    CG-12520      Claire Gute   Consumer  ...  South  FUR-BO-10001798   \n",
            "1    CG-12520      Claire Gute   Consumer  ...  South  FUR-CH-10000454   \n",
            "2    DV-13045  Darrin Van Huff  Corporate  ...   West  OFF-LA-10000240   \n",
            "3    SO-20335   Sean O'Donnell   Consumer  ...  South  FUR-TA-10000577   \n",
            "4    SO-20335   Sean O'Donnell   Consumer  ...  South  OFF-ST-10000760   \n",
            "\n",
            "          Category  Sub-Category  \\\n",
            "0        Furniture     Bookcases   \n",
            "1        Furniture        Chairs   \n",
            "2  Office Supplies        Labels   \n",
            "3        Furniture        Tables   \n",
            "4  Office Supplies       Storage   \n",
            "\n",
            "                                        Product Name     Sales Quantity  \\\n",
            "0                  Bush Somerset Collection Bookcase  261.9600        2   \n",
            "1  Hon Deluxe Fabric Upholstered Stacking Chairs,...  731.9400        3   \n",
            "2  Self-Adhesive Address Labels for Typewriters b...   14.6200        2   \n",
            "3      Bretford CR4500 Series Slim Rectangular Table  957.5775        5   \n",
            "4                     Eldon Fold 'N Roll Cart System   22.3680        2   \n",
            "\n",
            "  Discount    Profit  Label  \n",
            "0     0.00   41.9136      1  \n",
            "1     0.00  219.5820      1  \n",
            "2     0.00    6.8714      1  \n",
            "3     0.45 -383.0310      0  \n",
            "4     0.20    2.5164      1  \n",
            "\n",
            "[5 rows x 24 columns]\n"
          ]
        }
      ]
    },
    {
      "cell_type": "markdown",
      "source": [
        "Menghitung akurasi model"
      ],
      "metadata": {
        "id": "B3jwuuy1F6GF"
      }
    }
  ]
}